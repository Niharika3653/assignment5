{
 "cells": [
  {
   "cell_type": "markdown",
   "id": "d2fcbbe1",
   "metadata": {},
   "source": [
    "# create a function, which takes string as argument, create all combinations\n"
   ]
  },
  {
   "cell_type": "code",
   "execution_count": 7,
   "id": "a9249b72",
   "metadata": {},
   "outputs": [],
   "source": [
    "#Ex: abcdefg\n",
    "#ans should be:\n",
    "#a, ab, abc, abcd, abcde, abcdef, abcdefg,\n",
    " #b, bc, bcd, bcde, bcdef, bcdefg,\n",
    "# c, cd, cde, cdef, cdefg, \n",
    "#d, de, def, defg, \n",
    "#e, ef, efg,\n",
    " #f, fg\n",
    " #g\n"
   ]
  },
  {
   "cell_type": "code",
   "execution_count": 8,
   "id": "6a3ac8e6",
   "metadata": {},
   "outputs": [],
   "source": [
    "s= \"abcdefg\"\n",
    "def func2(s):\n",
    "    for start in range(len(s)):\n",
    "        for stop in range(start,len(s)):\n",
    "            print(s[start:stop+1],end=\"\\n\")\n"
   ]
  },
  {
   "cell_type": "code",
   "execution_count": 9,
   "id": "9c7f2e5f",
   "metadata": {
    "scrolled": true
   },
   "outputs": [
    {
     "name": "stdout",
     "output_type": "stream",
     "text": [
      "a\n",
      "ab\n",
      "abc\n",
      "abcd\n",
      "abcde\n",
      "abcdef\n",
      "abcdefg\n",
      "b\n",
      "bc\n",
      "bcd\n",
      "bcde\n",
      "bcdef\n",
      "bcdefg\n",
      "c\n",
      "cd\n",
      "cde\n",
      "cdef\n",
      "cdefg\n",
      "d\n",
      "de\n",
      "def\n",
      "defg\n",
      "e\n",
      "ef\n",
      "efg\n",
      "f\n",
      "fg\n",
      "g\n"
     ]
    }
   ],
   "source": [
    "func2(s)"
   ]
  },
  {
   "cell_type": "code",
   "execution_count": null,
   "id": "75f212b5",
   "metadata": {},
   "outputs": [],
   "source": []
  }
 ],
 "metadata": {
  "kernelspec": {
   "display_name": "Python 3 (ipykernel)",
   "language": "python",
   "name": "python3"
  },
  "language_info": {
   "codemirror_mode": {
    "name": "ipython",
    "version": 3
   },
   "file_extension": ".py",
   "mimetype": "text/x-python",
   "name": "python",
   "nbconvert_exporter": "python",
   "pygments_lexer": "ipython3",
   "version": "3.10.9"
  }
 },
 "nbformat": 4,
 "nbformat_minor": 5
}
